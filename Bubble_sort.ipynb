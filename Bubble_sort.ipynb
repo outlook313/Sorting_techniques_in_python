{
 "cells": [
  {
   "cell_type": "code",
   "execution_count": 1,
   "id": "b42d177b",
   "metadata": {},
   "outputs": [],
   "source": [
    "#Bubble sort"
   ]
  },
  {
   "cell_type": "markdown",
   "id": "fad40d4d",
   "metadata": {},
   "source": [
    "Bubble sort, sometimes referred to as sinking sort, is a simple sorting algorithm that repeatedly steps through the list, compares adjacent elements and swaps them if they are in the wrong order. The pass through the list is repeated until the list is sorted. The algorithm, which is a comparison sort, is named for the way smaller or larger elements \"bubble\" to the top of the list.\n",
    "\n",
    "This simple algorithm performs poorly in real world use and is used primarily as an educational tool. More efficient algorithms such as quicksort, timsort, or merge sort are used by the sorting libraries built into popular programming languages such as Python and Java."
   ]
  },
  {
   "attachments": {
    "bubble_sort.png": {
     "image/png": "[encoded data removed]"
    }
   },
   "cell_type": "markdown",
   "id": "bdf53f55",
   "metadata": {},
   "source": [
    "Step-by-step example<br>\n",
    "Take an array of numbers \"5 1 4 2 8\", and sort the array from lowest number to greatest number using bubble sort. In each step,<br> elements written in bold are being compared. Three passes will be required;<br><br>\n",
    "\n",
    "First Pass<br>\n",
    "( 5 1 4 2 8 ) → ( 1 5 4 2 8 ), Here, algorithm compares the first two elements, and swaps since 5 > 1.<br>\n",
    "( 1 5 4 2 8 ) → ( 1 4 5 2 8 ), Swap since 5 > 4<br>\n",
    "( 1 4 5 2 8 ) → ( 1 4 2 5 8 ), Swap since 5 > 2<br>\n",
    "( 1 4 2 5 8 ) → ( 1 4 2 5 8 ), Now, since these elements are already in order (8 > 5), algorithm does not swap them.<br><br>\n",
    "Second Pass<br>\n",
    "( 1 4 2 5 8 ) → ( 1 4 2 5 8 )<br>\n",
    "( 1 4 2 5 8 ) → ( 1 2 4 5 8 ), Swap since 4 > 2<br>\n",
    "( 1 2 4 5 8 ) → ( 1 2 4 5 8 )<br>\n",
    "( 1 2 4 5 8 ) → ( 1 2 4 5 8 )<br>\n",
    "Now, the array is already sorted, but the algorithm does not know if it is completed. The algorithm needs one additional whole <br>pass without any swap to know it is sorted.<br><br>\n",
    "\n",
    "Third Pass<br>\n",
    "( 1 2 4 5 8 ) → ( 1 2 4 5 8 )<br>\n",
    "( 1 2 4 5 8 ) → ( 1 2 4 5 8 )<br>\n",
    "( 1 2 4 5 8 ) → ( 1 2 4 5 8 )<br>\n",
    "( 1 2 4 5 8 ) → ( 1 2 4 5 8 )<br>\n",
    "\n",
    "![bubble_sort.png](attachment:bubble_sort.png)"
   ]
  },
  {
   "cell_type": "code",
   "execution_count": 3,
   "id": "da823e16",
   "metadata": {},
   "outputs": [
    {
     "name": "stdout",
     "output_type": "stream",
     "text": [
      "Enter the range of array5\n",
      "12\n",
      "3\n",
      "56\n",
      "20\n",
      "2\n",
      "Before Bubble Sort [12, 3, 56, 20, 2]\n",
      "After Bubble Sort [2, 3, 12, 20, 56]\n"
     ]
    },
    {
     "data": {
      "text/plain": [
       "(None,)"
      ]
     },
     "execution_count": 3,
     "metadata": {},
     "output_type": "execute_result"
    }
   ],
   "source": [
    "arr = []\n",
    "n=int(input(\"Enter the range of array\"))\n",
    "for i in range(0,n):\n",
    "    arr.append(int(input()))\n",
    "print(\"Before Bubble Sort\",arr)\n",
    "for i in range(n-1):\n",
    "    for j in range(0, n-i-1):  \n",
    "        if arr[j] > arr[j+1] : \n",
    "                arr[j], arr[j+1] = arr[j+1], arr[j]\n",
    "print (\"After Bubble Sort\",arr),"
   ]
  },
  {
   "cell_type": "code",
   "execution_count": 4,
   "id": "05e60dc0",
   "metadata": {},
   "outputs": [
    {
     "name": "stdout",
     "output_type": "stream",
     "text": [
      "Before Bubble Sort [64, 34, 25, 12, 22, 11, 90]\n",
      "After Bubble Sort [11, 12, 22, 25, 34, 64, 90]\n"
     ]
    },
    {
     "data": {
      "text/plain": [
       "(None,)"
      ]
     },
     "execution_count": 4,
     "metadata": {},
     "output_type": "execute_result"
    }
   ],
   "source": [
    "arr = [64, 34, 25, 12, 22, 11, 90]\n",
    "print(\"Before Bubble Sort\",arr)\n",
    "n = len(arr)\n",
    "for i in range(n-1):\n",
    "    for j in range(0, n-i-1):  \n",
    "        if arr[j] > arr[j+1] : \n",
    "                arr[j], arr[j+1] = arr[j+1], arr[j]\n",
    "print (\"After Bubble Sort\",arr),\n"
   ]
  },
  {
   "cell_type": "code",
   "execution_count": null,
   "id": "3fa99533",
   "metadata": {},
   "outputs": [],
   "source": []
  }
 ],
 "metadata": {
  "kernelspec": {
   "display_name": "Python 3",
   "language": "python",
   "name": "python3"
  },
  "language_info": {
   "codemirror_mode": {
    "name": "ipython",
    "version": 3
   },
   "file_extension": ".py",
   "mimetype": "text/x-python",
   "name": "python",
   "nbconvert_exporter": "python",
   "pygments_lexer": "ipython3",
   "version": "3.8.10"
  }
 },
 "nbformat": 4,
 "nbformat_minor": 5
}
