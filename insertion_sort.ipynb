{
 "cells": [
  {
   "cell_type": "code",
   "execution_count": 1,
   "id": "e5367871",
   "metadata": {},
   "outputs": [],
   "source": [
    "#Insertion sort"
   ]
  },
  {
   "attachments": {
    "insertion.png": {
     "image/png": "[encoded data removed]"
    }
   },
   "cell_type": "markdown",
   "id": "407a9a25",
   "metadata": {},
   "source": [
    "Insertion sort is a simple sorting algorithm that builds the final sorted array (or list) one item at a time. It is much less efficient on large lists than more advanced algorithms such as quicksort, heapsort, or merge sort. However,<br> insertion sort provides several advantages:<br><br>\n",
    "1.Simple implementation: Jon Bentley shows a three-line C version, and a five-line optimized version<br>\n",
    "2.Efficient for (quite) small data sets, much like other quadratic sorting algorithms<br>\n",
    "3.More efficient in practice than most other simple quadratic (i.e., O(n2)) algorithms such as selection sort or bubble sort<br>\n",
    "4.Adaptive, i.e., efficient for data sets that are already substantially sorted: the time complexity is O(kn) when each element in the input is no more than k places away from its sorted position<br>\n",
    "5.Stable; i.e., does not change the relative order of elements with equal keys<br>\n",
    "6.In-place; i.e., only requires a constant amount O(1) of additional memory space<br><br>\n",
    "\n",
    "![insertion.png](attachment:insertion.png)"
   ]
  },
  {
   "cell_type": "code",
   "execution_count": 3,
   "id": "67004036",
   "metadata": {},
   "outputs": [
    {
     "name": "stdout",
     "output_type": "stream",
     "text": [
      "Enter the size of the array5\n",
      "Enter the elements\n",
      "34\n",
      "67\n",
      "2\n",
      "100\n",
      "23\n",
      "Before Sorting: [34, 67, 2, 100, 23]\n",
      "After Sorting: [2, 23, 34, 67, 100]\n"
     ]
    }
   ],
   "source": [
    "ls=[] \n",
    "n=int(input(\"Enter the size of the array\")) \n",
    "print(\"Enter the elements\") \n",
    "for i in range(0,n): \n",
    " temp=int(input()) \n",
    " ls.append(temp) \n",
    "print(\"Before Sorting:\",ls) \n",
    "for i in range(1,n): \n",
    "    key=ls[i] \n",
    "    j=i-1 \n",
    "    while j>=0 and key<ls[j]: \n",
    "        ls[j+1]=ls[j] \n",
    "        j=j-1 \n",
    "        ls[j+1]=key \n",
    "print(\"After Sorting:\",ls) "
   ]
  },
  {
   "cell_type": "code",
   "execution_count": null,
   "id": "4c1f40b9",
   "metadata": {},
   "outputs": [],
   "source": []
  }
 ],
 "metadata": {
  "kernelspec": {
   "display_name": "Python 3",
   "language": "python",
   "name": "python3"
  },
  "language_info": {
   "codemirror_mode": {
    "name": "ipython",
    "version": 3
   },
   "file_extension": ".py",
   "mimetype": "text/x-python",
   "name": "python",
   "nbconvert_exporter": "python",
   "pygments_lexer": "ipython3",
   "version": "3.8.10"
  }
 },
 "nbformat": 4,
 "nbformat_minor": 5
}
